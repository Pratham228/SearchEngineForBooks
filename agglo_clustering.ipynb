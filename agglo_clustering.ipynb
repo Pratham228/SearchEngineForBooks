{
 "cells": [
  {
   "cell_type": "code",
   "execution_count": 8,
   "metadata": {},
   "outputs": [],
   "source": [
    "import pandas as pd\n",
    "import numpy as np\n",
    "from matplotlib import pyplot as plt\n",
    "from sklearn.cluster import AgglomerativeClustering\n",
    "import scipy.cluster.hierarchy as sch\n",
    "from sklearn.feature_extraction.text import TfidfVectorizer"
   ]
  },
  {
   "cell_type": "code",
   "execution_count": 9,
   "metadata": {},
   "outputs": [
    {
     "data": {
      "text/html": [
       "<div>\n",
       "<style scoped>\n",
       "    .dataframe tbody tr th:only-of-type {\n",
       "        vertical-align: middle;\n",
       "    }\n",
       "\n",
       "    .dataframe tbody tr th {\n",
       "        vertical-align: top;\n",
       "    }\n",
       "\n",
       "    .dataframe thead th {\n",
       "        text-align: right;\n",
       "    }\n",
       "</style>\n",
       "<table border=\"1\" class=\"dataframe\">\n",
       "  <thead>\n",
       "    <tr style=\"text-align: right;\">\n",
       "      <th></th>\n",
       "      <th>bookName</th>\n",
       "      <th>author</th>\n",
       "      <th>description</th>\n",
       "      <th>bookURL</th>\n",
       "      <th>parentURL</th>\n",
       "      <th>masterURL</th>\n",
       "      <th>type1</th>\n",
       "    </tr>\n",
       "  </thead>\n",
       "  <tbody>\n",
       "    <tr>\n",
       "      <td>0</td>\n",
       "      <td>Life at 21 Lane</td>\n",
       "      <td>Austin Mitchell</td>\n",
       "      <td>Banjo is hell bent of tricking his two former ...</td>\n",
       "      <td>https://www.free-ebooks.net/drama/Life-at-21-Lane</td>\n",
       "      <td>&lt;HtmlResponse 200 https://www.free-ebooks.net/...</td>\n",
       "      <td>https://www.free-ebooks.net</td>\n",
       "      <td>Book</td>\n",
       "    </tr>\n",
       "    <tr>\n",
       "      <td>1</td>\n",
       "      <td>For the Love of Freedom</td>\n",
       "      <td>DJ Vallone</td>\n",
       "      <td>The foundations of American freedom are shaken...</td>\n",
       "      <td>https://www.free-ebooks.net/drama/For-the-Love...</td>\n",
       "      <td>&lt;HtmlResponse 200 https://www.free-ebooks.net/...</td>\n",
       "      <td>https://www.free-ebooks.net</td>\n",
       "      <td>Book</td>\n",
       "    </tr>\n",
       "    <tr>\n",
       "      <td>2</td>\n",
       "      <td>Uptown Lovers-Book Two</td>\n",
       "      <td>Austin Mitchell</td>\n",
       "      <td>Morgana is on the verge of returning Stewart's...</td>\n",
       "      <td>https://www.free-ebooks.net/drama/Uptown-Lover...</td>\n",
       "      <td>&lt;HtmlResponse 200 https://www.free-ebooks.net/...</td>\n",
       "      <td>https://www.free-ebooks.net</td>\n",
       "      <td>Book</td>\n",
       "    </tr>\n",
       "    <tr>\n",
       "      <td>3</td>\n",
       "      <td>Undercover Soldier-Part Two</td>\n",
       "      <td>Austin Mitchell</td>\n",
       "      <td>Bendoo is caught and thrown in a cell at Warei...</td>\n",
       "      <td>https://www.free-ebooks.net/drama/Undercover-S...</td>\n",
       "      <td>&lt;HtmlResponse 200 https://www.free-ebooks.net/...</td>\n",
       "      <td>https://www.free-ebooks.net</td>\n",
       "      <td>Book</td>\n",
       "    </tr>\n",
       "    <tr>\n",
       "      <td>4</td>\n",
       "      <td>Undercover Soldier Part One</td>\n",
       "      <td>Austin Mitchell</td>\n",
       "      <td>Bendoo is sent on a mission to Wareika Hills, ...</td>\n",
       "      <td>https://www.free-ebooks.net/drama/Undercover-S...</td>\n",
       "      <td>&lt;HtmlResponse 200 https://www.free-ebooks.net/...</td>\n",
       "      <td>https://www.free-ebooks.net</td>\n",
       "      <td>Book</td>\n",
       "    </tr>\n",
       "  </tbody>\n",
       "</table>\n",
       "</div>"
      ],
      "text/plain": [
       "                      bookName           author  \\\n",
       "0              Life at 21 Lane  Austin Mitchell   \n",
       "1      For the Love of Freedom       DJ Vallone   \n",
       "2       Uptown Lovers-Book Two  Austin Mitchell   \n",
       "3  Undercover Soldier-Part Two  Austin Mitchell   \n",
       "4  Undercover Soldier Part One  Austin Mitchell   \n",
       "\n",
       "                                         description  \\\n",
       "0  Banjo is hell bent of tricking his two former ...   \n",
       "1  The foundations of American freedom are shaken...   \n",
       "2  Morgana is on the verge of returning Stewart's...   \n",
       "3  Bendoo is caught and thrown in a cell at Warei...   \n",
       "4  Bendoo is sent on a mission to Wareika Hills, ...   \n",
       "\n",
       "                                             bookURL  \\\n",
       "0  https://www.free-ebooks.net/drama/Life-at-21-Lane   \n",
       "1  https://www.free-ebooks.net/drama/For-the-Love...   \n",
       "2  https://www.free-ebooks.net/drama/Uptown-Lover...   \n",
       "3  https://www.free-ebooks.net/drama/Undercover-S...   \n",
       "4  https://www.free-ebooks.net/drama/Undercover-S...   \n",
       "\n",
       "                                           parentURL  \\\n",
       "0  <HtmlResponse 200 https://www.free-ebooks.net/...   \n",
       "1  <HtmlResponse 200 https://www.free-ebooks.net/...   \n",
       "2  <HtmlResponse 200 https://www.free-ebooks.net/...   \n",
       "3  <HtmlResponse 200 https://www.free-ebooks.net/...   \n",
       "4  <HtmlResponse 200 https://www.free-ebooks.net/...   \n",
       "\n",
       "                     masterURL type1  \n",
       "0  https://www.free-ebooks.net  Book  \n",
       "1  https://www.free-ebooks.net  Book  \n",
       "2  https://www.free-ebooks.net  Book  \n",
       "3  https://www.free-ebooks.net  Book  \n",
       "4  https://www.free-ebooks.net  Book  "
      ]
     },
     "execution_count": 9,
     "metadata": {},
     "output_type": "execute_result"
    }
   ],
   "source": [
    "data = pd.read_json(\"C:/Users/prayaas/Documents/Courses/Information retrieval/full_data.json\", lines=True)\n",
    "data.head()"
   ]
  },
  {
   "cell_type": "code",
   "execution_count": 11,
   "metadata": {},
   "outputs": [
    {
     "name": "stdout",
     "output_type": "stream",
     "text": [
      "[10.80747212  8.08837209 11.90608441 ... 11.90608441 11.90608441\n",
      " 11.5006193 ]\n",
      "(109013, 91027)\n"
     ]
    }
   ],
   "source": [
    "cols = ['bookName', 'author', 'description']\n",
    "data['combined'] = data[cols].apply(lambda row: ' '.join(row.values.astype(str)), axis=1)\n",
    "#data.head()\n",
    "\n",
    "\n",
    "v1 = TfidfVectorizer(stop_words='english')\n",
    "# tokenize and build vocab\n",
    "v1.fit(data.combined)\n",
    "print(v1.idf_)\n",
    "vector = v1.transform(data.combined)\n",
    "print(vector.shape)\n",
    "#print(vector.toarray())"
   ]
  },
  {
   "cell_type": "code",
   "execution_count": 12,
   "metadata": {
    "scrolled": true
   },
   "outputs": [
    {
     "ename": "MemoryError",
     "evalue": "",
     "output_type": "error",
     "traceback": [
      "\u001b[1;31m---------------------------------------------------------------------------\u001b[0m",
      "\u001b[1;31mMemoryError\u001b[0m                               Traceback (most recent call last)",
      "\u001b[1;32m<ipython-input-12-fbf4945e86f5>\u001b[0m in \u001b[0;36m<module>\u001b[1;34m\u001b[0m\n\u001b[0;32m      1\u001b[0m \u001b[0mmodel\u001b[0m \u001b[1;33m=\u001b[0m \u001b[0mAgglomerativeClustering\u001b[0m\u001b[1;33m(\u001b[0m\u001b[0mn_clusters\u001b[0m\u001b[1;33m=\u001b[0m\u001b[1;36m16\u001b[0m\u001b[1;33m,\u001b[0m \u001b[0maffinity\u001b[0m \u001b[1;33m=\u001b[0m \u001b[1;34m'cosine'\u001b[0m\u001b[1;33m,\u001b[0m \u001b[0mlinkage\u001b[0m \u001b[1;33m=\u001b[0m \u001b[1;34m'complete'\u001b[0m\u001b[1;33m)\u001b[0m\u001b[1;33m\u001b[0m\u001b[1;33m\u001b[0m\u001b[0m\n\u001b[1;32m----> 2\u001b[1;33m \u001b[0mclust_labels\u001b[0m \u001b[1;33m=\u001b[0m \u001b[0mmodel\u001b[0m\u001b[1;33m.\u001b[0m\u001b[0mfit\u001b[0m\u001b[1;33m(\u001b[0m\u001b[0mvector\u001b[0m\u001b[1;33m.\u001b[0m\u001b[0mtodense\u001b[0m\u001b[1;33m(\u001b[0m\u001b[1;33m)\u001b[0m\u001b[1;33m)\u001b[0m\u001b[1;33m\u001b[0m\u001b[1;33m\u001b[0m\u001b[0m\n\u001b[0m",
      "\u001b[1;32m~\\Anaconda3\\lib\\site-packages\\scipy\\sparse\\base.py\u001b[0m in \u001b[0;36mtodense\u001b[1;34m(self, order, out)\u001b[0m\n\u001b[0;32m    846\u001b[0m             \u001b[0;31m`\u001b[0m\u001b[0mnumpy\u001b[0m\u001b[1;33m.\u001b[0m\u001b[0mmatrix\u001b[0m\u001b[0;31m`\u001b[0m \u001b[0mobject\u001b[0m \u001b[0mthat\u001b[0m \u001b[0mshares\u001b[0m \u001b[0mthe\u001b[0m \u001b[0msame\u001b[0m \u001b[0mmemory\u001b[0m\u001b[1;33m.\u001b[0m\u001b[1;33m\u001b[0m\u001b[1;33m\u001b[0m\u001b[0m\n\u001b[0;32m    847\u001b[0m         \"\"\"\n\u001b[1;32m--> 848\u001b[1;33m         \u001b[1;32mreturn\u001b[0m \u001b[0masmatrix\u001b[0m\u001b[1;33m(\u001b[0m\u001b[0mself\u001b[0m\u001b[1;33m.\u001b[0m\u001b[0mtoarray\u001b[0m\u001b[1;33m(\u001b[0m\u001b[0morder\u001b[0m\u001b[1;33m=\u001b[0m\u001b[0morder\u001b[0m\u001b[1;33m,\u001b[0m \u001b[0mout\u001b[0m\u001b[1;33m=\u001b[0m\u001b[0mout\u001b[0m\u001b[1;33m)\u001b[0m\u001b[1;33m)\u001b[0m\u001b[1;33m\u001b[0m\u001b[1;33m\u001b[0m\u001b[0m\n\u001b[0m\u001b[0;32m    849\u001b[0m \u001b[1;33m\u001b[0m\u001b[0m\n\u001b[0;32m    850\u001b[0m     \u001b[1;32mdef\u001b[0m \u001b[0mtoarray\u001b[0m\u001b[1;33m(\u001b[0m\u001b[0mself\u001b[0m\u001b[1;33m,\u001b[0m \u001b[0morder\u001b[0m\u001b[1;33m=\u001b[0m\u001b[1;32mNone\u001b[0m\u001b[1;33m,\u001b[0m \u001b[0mout\u001b[0m\u001b[1;33m=\u001b[0m\u001b[1;32mNone\u001b[0m\u001b[1;33m)\u001b[0m\u001b[1;33m:\u001b[0m\u001b[1;33m\u001b[0m\u001b[1;33m\u001b[0m\u001b[0m\n",
      "\u001b[1;32m~\\Anaconda3\\lib\\site-packages\\scipy\\sparse\\compressed.py\u001b[0m in \u001b[0;36mtoarray\u001b[1;34m(self, order, out)\u001b[0m\n\u001b[0;32m   1022\u001b[0m         \u001b[1;32mif\u001b[0m \u001b[0mout\u001b[0m \u001b[1;32mis\u001b[0m \u001b[1;32mNone\u001b[0m \u001b[1;32mand\u001b[0m \u001b[0morder\u001b[0m \u001b[1;32mis\u001b[0m \u001b[1;32mNone\u001b[0m\u001b[1;33m:\u001b[0m\u001b[1;33m\u001b[0m\u001b[1;33m\u001b[0m\u001b[0m\n\u001b[0;32m   1023\u001b[0m             \u001b[0morder\u001b[0m \u001b[1;33m=\u001b[0m \u001b[0mself\u001b[0m\u001b[1;33m.\u001b[0m\u001b[0m_swap\u001b[0m\u001b[1;33m(\u001b[0m\u001b[1;34m'cf'\u001b[0m\u001b[1;33m)\u001b[0m\u001b[1;33m[\u001b[0m\u001b[1;36m0\u001b[0m\u001b[1;33m]\u001b[0m\u001b[1;33m\u001b[0m\u001b[1;33m\u001b[0m\u001b[0m\n\u001b[1;32m-> 1024\u001b[1;33m         \u001b[0mout\u001b[0m \u001b[1;33m=\u001b[0m \u001b[0mself\u001b[0m\u001b[1;33m.\u001b[0m\u001b[0m_process_toarray_args\u001b[0m\u001b[1;33m(\u001b[0m\u001b[0morder\u001b[0m\u001b[1;33m,\u001b[0m \u001b[0mout\u001b[0m\u001b[1;33m)\u001b[0m\u001b[1;33m\u001b[0m\u001b[1;33m\u001b[0m\u001b[0m\n\u001b[0m\u001b[0;32m   1025\u001b[0m         \u001b[1;32mif\u001b[0m \u001b[1;32mnot\u001b[0m \u001b[1;33m(\u001b[0m\u001b[0mout\u001b[0m\u001b[1;33m.\u001b[0m\u001b[0mflags\u001b[0m\u001b[1;33m.\u001b[0m\u001b[0mc_contiguous\u001b[0m \u001b[1;32mor\u001b[0m \u001b[0mout\u001b[0m\u001b[1;33m.\u001b[0m\u001b[0mflags\u001b[0m\u001b[1;33m.\u001b[0m\u001b[0mf_contiguous\u001b[0m\u001b[1;33m)\u001b[0m\u001b[1;33m:\u001b[0m\u001b[1;33m\u001b[0m\u001b[1;33m\u001b[0m\u001b[0m\n\u001b[0;32m   1026\u001b[0m             \u001b[1;32mraise\u001b[0m \u001b[0mValueError\u001b[0m\u001b[1;33m(\u001b[0m\u001b[1;34m'Output array must be C or F contiguous'\u001b[0m\u001b[1;33m)\u001b[0m\u001b[1;33m\u001b[0m\u001b[1;33m\u001b[0m\u001b[0m\n",
      "\u001b[1;32m~\\Anaconda3\\lib\\site-packages\\scipy\\sparse\\base.py\u001b[0m in \u001b[0;36m_process_toarray_args\u001b[1;34m(self, order, out)\u001b[0m\n\u001b[0;32m   1184\u001b[0m             \u001b[1;32mreturn\u001b[0m \u001b[0mout\u001b[0m\u001b[1;33m\u001b[0m\u001b[1;33m\u001b[0m\u001b[0m\n\u001b[0;32m   1185\u001b[0m         \u001b[1;32melse\u001b[0m\u001b[1;33m:\u001b[0m\u001b[1;33m\u001b[0m\u001b[1;33m\u001b[0m\u001b[0m\n\u001b[1;32m-> 1186\u001b[1;33m             \u001b[1;32mreturn\u001b[0m \u001b[0mnp\u001b[0m\u001b[1;33m.\u001b[0m\u001b[0mzeros\u001b[0m\u001b[1;33m(\u001b[0m\u001b[0mself\u001b[0m\u001b[1;33m.\u001b[0m\u001b[0mshape\u001b[0m\u001b[1;33m,\u001b[0m \u001b[0mdtype\u001b[0m\u001b[1;33m=\u001b[0m\u001b[0mself\u001b[0m\u001b[1;33m.\u001b[0m\u001b[0mdtype\u001b[0m\u001b[1;33m,\u001b[0m \u001b[0morder\u001b[0m\u001b[1;33m=\u001b[0m\u001b[0morder\u001b[0m\u001b[1;33m)\u001b[0m\u001b[1;33m\u001b[0m\u001b[1;33m\u001b[0m\u001b[0m\n\u001b[0m\u001b[0;32m   1187\u001b[0m \u001b[1;33m\u001b[0m\u001b[0m\n\u001b[0;32m   1188\u001b[0m \u001b[1;33m\u001b[0m\u001b[0m\n",
      "\u001b[1;31mMemoryError\u001b[0m: "
     ]
    }
   ],
   "source": [
    "model = AgglomerativeClustering(n_clusters=16, affinity = 'cosine', linkage = 'complete')\n",
    "clust_labels = model.fit(vector.todense())"
   ]
  },
  {
   "cell_type": "code",
   "execution_count": 7,
   "metadata": {},
   "outputs": [
    {
     "data": {
      "text/plain": [
       "array([ 9,  0,  9,  9,  9,  9,  0,  0, 11,  0,  0,  3,  3,  0, 14,  2,  0,\n",
       "        0, 12, 12,  3,  0, 14,  7,  0, 14,  0, 14,  4,  5,  0,  2,  4,  9,\n",
       "        2, 15,  5,  1, 13,  2,  1,  6,  2,  0,  3, 12,  0, 10,  0,  0,  0,\n",
       "        5,  0,  4,  2,  3,  1,  0,  0,  8,  1,  1,  3,  1,  2, 12,  1,  0,\n",
       "        1,  1,  5,  0,  2,  3,  0,  1,  8,  0, 11,  6,  6,  6,  2,  6,  5,\n",
       "        0,  5,  5, 12, 12,  0,  0,  7, 10,  3,  0,  4,  0,  0,  0,  2,  4,\n",
       "       12, 12,  0, 11,  5,  4,  3,  2,  5,  3, 12,  0,  2,  0,  5,  2,  2,\n",
       "       10,  5,  5,  5, 11], dtype=int64)"
      ]
     },
     "execution_count": 7,
     "metadata": {},
     "output_type": "execute_result"
    }
   ],
   "source": [
    "clust_labels.labels_\n",
    "#data[\"labels\"]=clust_labels.labels_\n",
    "#data.head()"
   ]
  },
  {
   "cell_type": "code",
   "execution_count": null,
   "metadata": {},
   "outputs": [],
   "source": []
  }
 ],
 "metadata": {
  "kernelspec": {
   "display_name": "Python 3",
   "language": "python",
   "name": "python3"
  },
  "language_info": {
   "codemirror_mode": {
    "name": "ipython",
    "version": 3
   },
   "file_extension": ".py",
   "mimetype": "text/x-python",
   "name": "python",
   "nbconvert_exporter": "python",
   "pygments_lexer": "ipython3",
   "version": "3.7.4"
  }
 },
 "nbformat": 4,
 "nbformat_minor": 2
}
